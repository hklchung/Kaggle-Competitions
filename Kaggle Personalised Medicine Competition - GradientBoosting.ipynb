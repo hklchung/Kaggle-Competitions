{
 "cells": [
  {
   "cell_type": "code",
   "execution_count": null,
   "metadata": {
    "collapsed": true
   },
   "outputs": [],
   "source": [
    "import numpy as np\n",
    "import pandas as pd\n",
    "from subprocess import check_output\n",
    "from sklearn.feature_extraction.text import TfidfVectorizer\n",
    "from sklearn.decomposition import TruncatedSVD\n",
    "from sklearn.preprocessing import LabelEncoder\n",
    "from sklearn.ensemble import GradientBoostingClassifier\n",
    "\n",
    "\n",
    "train_variant = pd.read_csv(\"training_variants\")\n",
    "test_variant = pd.read_csv(\"test_variants\")\n",
    "train_text = pd.read_csv(\"training_text\", sep=\"\\|\\|\", engine='python', header=None, skiprows=1, names=[\"ID\",\"Text\"])\n",
    "test_text = pd.read_csv(\"test_text\", sep=\"\\|\\|\", engine='python', header=None, skiprows=1, names=[\"ID\",\"Text\"])\n",
    "\n",
    "train = pd.merge(train_variant, train_text, how='left', on='ID')\n",
    "x_train = train.drop('Class', axis=1)\n",
    "\n",
    "x_test = pd.merge(test_variant, test_text, how='left', on='ID')\n",
    "test_index = x_test['ID'].values\n",
    "\n",
    "data = np.concatenate((x_train, x_test), axis=0)\n",
    "data=pd.DataFrame(data)\n",
    "data.columns = [\"ID\", \"Gene\", \"Variation\", \"Text\"]\n",
    "\n",
    "mod=TfidfVectorizer(min_df=5, max_features=500, stop_words='english')\n",
    "mod_TD=mod.fit_transform(data.Text)\n",
    "\n",
    "SVD=TruncatedSVD(200,random_state=41)\n",
    "SVD_FIT=SVD.fit_transform(mod_TD)\n",
    "yet_to_complete=pd.DataFrame(SVD_FIT)\n",
    "encoder = LabelEncoder()\n",
    "y_train = train['Class'].values\n",
    "encoder.fit(y_train)\n",
    "encoded_y = encoder.transform(y_train)\n",
    "\n",
    "gbm1=GradientBoostingClassifier(learning_rate=0.1, min_samples_split=500,min_samples_leaf=50,max_depth=8,max_features='sqrt',subsample=0.8,random_state=10)\n",
    "gbm1.fit(yet_to_complete[:3321],encoded_y)\n",
    "\n",
    "y_pred=gbm1.predict_proba(yet_to_complete[3321:])\n",
    "\n",
    "subm_file = pd.DataFrame(y_pred)\n",
    "subm_file['id'] = test_index\n",
    "subm_file.columns = ['class1', 'class2', 'class3', 'class4', 'class5', 'class6', 'class7', 'class8', 'class9', 'id']\n",
    "subm_file.to_csv(\"submission.csv\",index=False)"
   ]
  }
 ],
 "metadata": {
  "kernelspec": {
   "display_name": "Python 3",
   "language": "python",
   "name": "python3"
  }
 },
 "nbformat": 4,
 "nbformat_minor": 2
}
