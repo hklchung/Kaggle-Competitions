{
 "cells": [
  {
   "cell_type": "code",
   "execution_count": 1,
   "metadata": {
    "collapsed": true
   },
   "outputs": [],
   "source": [
    "# Titanic kaggle competition\n",
    "# Import libraries necessary for this project\n",
    "import numpy as np\n",
    "import pandas as pd\n",
    "from sklearn.preprocessing import MinMaxScaler\n",
    "from sklearn.preprocessing import Imputer\n",
    "from sklearn.cross_validation import train_test_split\n",
    "from sklearn import svm\n",
    "from sklearn.tree import DecisionTreeClassifier\n",
    "from sklearn.neighbors import KNeighborsClassifier\n",
    "from sklearn.ensemble import RandomForestClassifier\n",
    "from sklearn.metrics import accuracy_score\n",
    "from sklearn.metrics import f1_score\n",
    "from sklearn.grid_search import GridSearchCV\n",
    "from sklearn.metrics import fbeta_score, make_scorer"
   ]
  },
  {
   "cell_type": "code",
   "execution_count": 2,
   "metadata": {},
   "outputs": [
    {
     "name": "stdout",
     "output_type": "stream",
     "text": [
      "The titanic dataset has 891 samples with 12 features each.\n"
     ]
    }
   ],
   "source": [
    "# EXPLORING THE DATA\n",
    "# Load the wholesale customers dataset\n",
    "data = pd.read_csv(\"train.csv\")\n",
    "test_data = pd.read_csv(\"test.csv\")\n",
    "full_set = data.append(test_data)\n",
    "full_set.set_index('PassengerId', inplace = True)\n",
    "full_set = full_set.drop('Ticket', axis=1)\n",
    "print \"The titanic dataset has {} samples with {} features each.\".format(*data.shape)"
   ]
  },
  {
   "cell_type": "code",
   "execution_count": 3,
   "metadata": {},
   "outputs": [
    {
     "name": "stdout",
     "output_type": "stream",
     "text": [
      "Percentage of passengers who survived the titanic disaster: 38.38%\n"
     ]
    }
   ],
   "source": [
    "# simple data exploration\n",
    "n_survivors = (data['Survived']==1).sum()\n",
    "n_fatalities = (data['Survived']==0).sum()\n",
    "\n",
    "survived_percent = float(n_survivors) / len(data) * 100\n",
    "print \"Percentage of passengers who survived the titanic disaster: {:.2f}%\".format(survived_percent)"
   ]
  },
  {
   "cell_type": "code",
   "execution_count": 4,
   "metadata": {},
   "outputs": [
    {
     "name": "stdout",
     "output_type": "stream",
     "text": [
      "There are 18 different titles\n"
     ]
    }
   ],
   "source": [
    "# DATA PRE-PROCESSING\n",
    "# define a simple function for feature engineering with the names\n",
    "def get_title(string):\n",
    "    string = string.split(\", \")[1].strip().split(\".\")[0].strip()\n",
    "    return string\n",
    "\n",
    "full_set['Name'] = full_set.apply(lambda row: get_title(row['Name']), axis=1)\n",
    "print \"There are {} different titles\".format(len(set(full_set['Name'])))"
   ]
  },
  {
   "cell_type": "code",
   "execution_count": 5,
   "metadata": {},
   "outputs": [
    {
     "name": "stdout",
     "output_type": "stream",
     "text": [
      "There are 6 different titles after grouping\n"
     ]
    }
   ],
   "source": [
    "# grouping the titles together to reduce variation\n",
    "title_dict = {\"Capt\":\"Officer\",\n",
    "              \"Col\":\"Officer\",\n",
    "              \"Major\":\"Officer\",\n",
    "              \"Jonkheer\":\"Royalty\",\n",
    "              \"Don\":\"Royalty\",\n",
    "              \"Sir\" :\"Royalty\",\n",
    "              \"Dr\":\"Officer\",\n",
    "              \"Rev\":\"Officer\",\n",
    "              \"the Countess\":\"Royalty\",\n",
    "              \"Dona\":\"Royalty\",\n",
    "              \"Mme\":\"Mrs\",\n",
    "              \"Mlle\":\"Miss\",\n",
    "              \"Ms\":\"Mrs\",\n",
    "              \"Mr\" :\"Mr\",\n",
    "              \"Mrs\" :\"Mrs\",\n",
    "              \"Miss\" :\"Miss\",\n",
    "              \"Master\" :\"Master\",\n",
    "              \"Lady\":\"Royalty\"\n",
    "                        }\n",
    "full_set['Name'] = full_set.Name.map(title_dict)\n",
    "print \"There are {} different titles after grouping\".format(len(set(full_set['Name'])))"
   ]
  },
  {
   "cell_type": "code",
   "execution_count": 8,
   "metadata": {},
   "outputs": [
    {
     "data": {
      "image/png": "[encoded data removed]",
      "text/plain": [
       "<matplotlib.figure.Figure at 0xc5eb4a8>"
      ]
     },
     "metadata": {},
     "output_type": "display_data"
    }
   ],
   "source": [
    "# check if any continuous features (numerical) are skewed\n",
    "import matplotlib.pyplot as plt\n",
    "data['Age'].hist()\n",
    "plt.show()"
   ]
  },
  {
   "cell_type": "code",
   "execution_count": 9,
   "metadata": {},
   "outputs": [
    {
     "data": {
      "image/png": "[encoded data removed]",
      "text/plain": [
       "<matplotlib.figure.Figure at 0xd358630>"
      ]
     },
     "metadata": {},
     "output_type": "display_data"
    }
   ],
   "source": [
    "data['SibSp'].hist()\n",
    "plt.show()"
   ]
  },
  {
   "cell_type": "code",
   "execution_count": 10,
   "metadata": {},
   "outputs": [
    {
     "data": {
      "image/png": "[encoded data removed]",
      "text/plain": [
       "<matplotlib.figure.Figure at 0xdf57668>"
      ]
     },
     "metadata": {},
     "output_type": "display_data"
    }
   ],
   "source": [
    "data['Fare'].hist()\n",
    "plt.show()"
   ]
  },
  {
   "cell_type": "code",
   "execution_count": 11,
   "metadata": {},
   "outputs": [
    {
     "data": {
      "image/png": "[encoded data removed]",
      "text/plain": [
       "<matplotlib.figure.Figure at 0xd2a3898>"
      ]
     },
     "metadata": {},
     "output_type": "display_data"
    }
   ],
   "source": [
    "data['Parch'].hist()\n",
    "plt.show()"
   ]
  },
  {
   "cell_type": "code",
   "execution_count": 12,
   "metadata": {
    "collapsed": true
   },
   "outputs": [],
   "source": [
    "# split the data into features and target variable\n",
    "survive_raw = full_set['Survived']\n",
    "features_raw = full_set.drop('Survived', axis=1)"
   ]
  },
  {
   "cell_type": "code",
   "execution_count": 13,
   "metadata": {
    "collapsed": true
   },
   "outputs": [],
   "source": [
    "# imputation (get rid of the nan)\n",
    "num_features_raw = ['Age', 'SibSp', 'Fare', 'Parch']\n",
    "num_imp = Imputer(missing_values='NaN', strategy='mean', axis=0)\n",
    "features_raw[num_features_raw] = num_imp.fit_transform(features_raw[num_features_raw])\n",
    "\n",
    "features_raw['Cabin'].fillna('U', inplace=True)\n",
    "features_raw['Embarked'].fillna('U', inplace=True)\n",
    "\n",
    "def get_cabin(cabin):\n",
    "    cabin = cabin[0]\n",
    "    return cabin\n",
    "\n",
    "features_raw['Cabin'] = features_raw.apply(lambda row: get_cabin(row['Cabin']), axis=1)\n",
    "features_raw.isnull().sum()\n",
    "\n",
    "features_raw_drop_na = features_raw.dropna(axis=0, how='any')"
   ]
  },
  {
   "cell_type": "code",
   "execution_count": 14,
   "metadata": {
    "collapsed": true
   },
   "outputs": [],
   "source": [
    "'''\n",
    "# log transform the skewed data\n",
    "skewed = ['Age', 'SibSp', 'Fare', 'Parch']\n",
    "features_log_transformed = pd.DataFrame(data = features_raw_drop_na)\n",
    "features_log_transformed[skewed] = features_raw_drop_na[skewed].apply(lambda x: np.log(x + 1))\n",
    "'''\n",
    "# normalizing numerical features\n",
    "scaler = MinMaxScaler()\n",
    "numerical = ['Age', 'SibSp', 'Fare', 'Parch']\n",
    "features_log_minmax_transform = pd.DataFrame(data = features_raw_drop_na)\n",
    "features_log_minmax_transform[numerical] = scaler.fit_transform(features_raw_drop_na[numerical])"
   ]
  },
  {
   "cell_type": "code",
   "execution_count": 15,
   "metadata": {
    "collapsed": true
   },
   "outputs": [],
   "source": [
    "# creating the final feature set\n",
    "cat_features_raw = ['Pclass', 'Name', 'Sex', 'Cabin', 'Embarked']\n",
    "\n",
    "final_cat_features = pd.get_dummies(features_log_minmax_transform[cat_features_raw])\n",
    "final_num_features = features_log_minmax_transform[numerical]\n",
    "final_features = pd.concat([final_cat_features, final_num_features], axis = 1)"
   ]
  },
  {
   "cell_type": "code",
   "execution_count": 16,
   "metadata": {
    "collapsed": true
   },
   "outputs": [],
   "source": [
    "# now that we have done feature engineering with both train and test data, we need to split them apart again\n",
    "train_features = final_features[:len(data.index)]\n",
    "train_target = survive_raw[:len(data.index)]\n",
    "\n",
    "test_features = final_features[len(data.index):]"
   ]
  },
  {
   "cell_type": "code",
   "execution_count": 17,
   "metadata": {},
   "outputs": [
    {
     "name": "stdout",
     "output_type": "stream",
     "text": [
      "Training set has 712 samples.\n",
      "Testing set has 179 samples.\n"
     ]
    }
   ],
   "source": [
    "# shuffle and split the data into training and cross-validation sets\n",
    "X_train, X_test, y_train, y_test = train_test_split(train_features, train_target, test_size = 0.2, random_state = 0)\n",
    "\n",
    "# Show the results of the split\n",
    "print \"Training set has {} samples.\".format(X_train.shape[0])\n",
    "print \"Testing set has {} samples.\".format(X_test.shape[0])"
   ]
  },
  {
   "cell_type": "code",
   "execution_count": 18,
   "metadata": {},
   "outputs": [
    {
     "name": "stdout",
     "output_type": "stream",
     "text": [
      "Naive Predictor: [Accuracy score: 0.2613, F-score: 0.3066]\n"
     ]
    }
   ],
   "source": [
    "# NAIVE PREDICTOR PERFORMANCE\n",
    "# if we chose a model that always predict '1' (i.e. passenger survives) then what is the model's accuracy and F-score?\n",
    "accuracy = float(np.sum(survive_raw == 1))/len(survive_raw)\n",
    "recall = 1\n",
    "precision = accuracy\n",
    "\n",
    "beta = 0.5\n",
    "fscore = (1 + beta**2) * (precision*recall) / ((beta**2 * precision) + recall)\n",
    "\n",
    "# print the results \n",
    "print \"Naive Predictor: [Accuracy score: {:.4f}, F-score: {:.4f}]\".format(accuracy, fscore)"
   ]
  },
  {
   "cell_type": "code",
   "execution_count": 19,
   "metadata": {},
   "outputs": [
    {
     "name": "stdout",
     "output_type": "stream",
     "text": [
      "Decision Tree Predictor: [Accuracy score: 0.7542, F-score: 0.6716]\n"
     ]
    }
   ],
   "source": [
    "# ML IMPLEMENTATION\n",
    "# first we call our DT classifier function\n",
    "clf1 = DecisionTreeClassifier(random_state=0)\n",
    "# train our DT classifier with the training data\n",
    "clf1.fit(X_train, y_train)\n",
    "# make predictions with CV\n",
    "clf1_predictions = clf1.predict(X_test)\n",
    "# find accuracy and f1 score of our DT model\n",
    "DT_accuracy = accuracy_score(y_test, clf1_predictions)\n",
    "DT_F1 = f1_score(y_test, clf1_predictions)\n",
    "# print the results \n",
    "print \"Decision Tree Predictor: [Accuracy score: {:.4f}, F-score: {:.4f}]\".format(DT_accuracy, DT_F1)"
   ]
  },
  {
   "cell_type": "code",
   "execution_count": 20,
   "metadata": {},
   "outputs": [
    {
     "name": "stdout",
     "output_type": "stream",
     "text": [
      "SVM Predictor: [Accuracy score: 0.7933, F-score: 0.7299]\n"
     ]
    }
   ],
   "source": [
    "# we repeat the above process with another learner\n",
    "# first we call our SVM classifier function\n",
    "clf2 = svm.SVC(random_state=0)\n",
    "# train our SVM classifier with the training data\n",
    "clf2.fit(X_train, y_train)\n",
    "# make predictions with CV\n",
    "clf2_predictions = clf2.predict(X_test)\n",
    "# find accuracy and f1 score of our SVM model\n",
    "SVM_accuracy = accuracy_score(y_test, clf2_predictions)\n",
    "SVM_F1 = f1_score(y_test, clf2_predictions)\n",
    "# print the results \n",
    "print \"SVM Predictor: [Accuracy score: {:.4f}, F-score: {:.4f}]\".format(SVM_accuracy, SVM_F1)"
   ]
  },
  {
   "cell_type": "code",
   "execution_count": 21,
   "metadata": {},
   "outputs": [
    {
     "name": "stdout",
     "output_type": "stream",
     "text": [
      "kNN Predictor: [Accuracy score: 0.8212, F-score: 0.7538]\n"
     ]
    }
   ],
   "source": [
    "# we repeat the above process with a third learner\n",
    "# first we call our SVM classifier function\n",
    "clf3 = KNeighborsClassifier()\n",
    "# train our DT classifier with the training data\n",
    "clf3.fit(X_train, y_train)\n",
    "# make predictions with CV\n",
    "clf3_predictions = clf3.predict(X_test)\n",
    "# find accuracy and f1 score of our DT model\n",
    "kNN_accuracy = accuracy_score(y_test, clf3_predictions)\n",
    "kNN_F1 = f1_score(y_test, clf3_predictions)\n",
    "# print the results \n",
    "print \"kNN Predictor: [Accuracy score: {:.4f}, F-score: {:.4f}]\".format(kNN_accuracy, kNN_F1)"
   ]
  },
  {
   "cell_type": "code",
   "execution_count": 22,
   "metadata": {},
   "outputs": [
    {
     "name": "stdout",
     "output_type": "stream",
     "text": [
      "Random Forest Predictor: [Accuracy score: 0.7933, F-score: 0.7299]\n"
     ]
    }
   ],
   "source": [
    "# we repeat the above process with a forth learner\n",
    "# first we call our SVM classifier function\n",
    "clf4 = RandomForestClassifier(max_depth=2, random_state=0)\n",
    "# train our DT classifier with the training data\n",
    "clf4.fit(X_train, y_train)\n",
    "# make predictions with CV\n",
    "clf4_predictions = clf4.predict(X_test)\n",
    "# find accuracy and f1 score of our DT model\n",
    "RF_accuracy = accuracy_score(y_test, clf4_predictions)\n",
    "RF_F1 = f1_score(y_test, clf4_predictions)\n",
    "# print the results \n",
    "print \"Random Forest Predictor: [Accuracy score: {:.4f}, F-score: {:.4f}]\".format(RF_accuracy, RF_F1)"
   ]
  },
  {
   "cell_type": "code",
   "execution_count": 28,
   "metadata": {
    "collapsed": true
   },
   "outputs": [],
   "source": [
    "# GRID SEARCH\n",
    "# after we have found the best performing model, we can run grid-search to make the model perform even better\n",
    "# set our classifier as the best performing classifier\n",
    "clf = clf3\n",
    "# choose some parameters for gridsearch\n",
    "parameters = {'n_neighbors':[3, 4, 5, 6, 7], 'weights':['uniform', 'distance']}\n",
    "# make an fbeta score scoring object\n",
    "scorer = make_scorer(f1_score)\n",
    "# perform grid search on the classifier using 'scorer' as the scoring method using gridsearch\n",
    "grid_obj = GridSearchCV(estimator=clf, param_grid=parameters, scoring = scorer)\n",
    "# fit the grid search object to the training data and find the optimal parameters\n",
    "grid_fit = grid_obj.fit(X_train, y_train)\n",
    "# get the estimator\n",
    "best_clf = grid_fit.best_estimator_\n",
    "# make predictions using the new optimized model\n",
    "best_predictions = best_clf.predict(X_test)\n",
    "\n",
    "# find accuracy and f1 score of our optimized kNN model\n",
    "kNN_optimized_accuracy = accuracy_score(y_test, best_predictions)\n",
    "kNN_optimized_F1 = f1_score(y_test, best_predictions)"
   ]
  },
  {
   "cell_type": "code",
   "execution_count": 29,
   "metadata": {},
   "outputs": [
    {
     "name": "stdout",
     "output_type": "stream",
     "text": [
      "Naive predictor:\n",
      "[Accuracy score: 0.2613, F-score: 0.3066]\n",
      "Un-optimized kNN:\n",
      "[Accuracy score: 0.8212, F-score: 0.7538]\n",
      "Optimized kNN:\n",
      "[Accuracy score: 0.8156, F-score: 0.7402]\n"
     ]
    }
   ],
   "source": [
    "# print results of the benchmark, un-optimized and the optimized models\n",
    "print \"Naive predictor:\"\n",
    "print \"[Accuracy score: {:.4f}, F-score: {:.4f}]\".format(accuracy, fscore)\n",
    "print \"Un-optimized kNN:\"\n",
    "print \"[Accuracy score: {:.4f}, F-score: {:.4f}]\".format(kNN_accuracy, kNN_F1)\n",
    "print \"Optimized kNN:\"\n",
    "print \"[Accuracy score: {:.4f}, F-score: {:.4f}]\".format(kNN_optimized_accuracy, kNN_optimized_F1)"
   ]
  },
  {
   "cell_type": "code",
   "execution_count": null,
   "metadata": {
    "collapsed": true
   },
   "outputs": [],
   "source": [
    "# MAKE TEST PREDICTION\n",
    "# finally we have our 'perfect' model and it is time to make predictions for our test set\n",
    "output = best_clf.predict(test_features).astype(int)\n",
    "df_output = pd.DataFrame()\n",
    "aux = pd.read_csv(\"test.csv\")\n",
    "df_output['PassengerId'] = aux['PassengerId']\n",
    "df_output['Survived'] = output\n",
    "df_output[['PassengerId','Survived']].to_csv('output4.csv',index=False)\n",
    "\n",
    "# this output scored 0.78947 on Kaggle"
   ]
  }
 ],
 "metadata": {
  "kernelspec": {
   "display_name": "Python 2",
   "language": "python",
   "name": "python2"
  },
  "language_info": {
   "codemirror_mode": {
    "name": "ipython",
    "version": 2
   },
   "file_extension": ".py",
   "mimetype": "text/x-python",
   "name": "python",
   "nbconvert_exporter": "python",
   "pygments_lexer": "ipython2",
   "version": "2.7.13"
  }
 },
 "nbformat": 4,
 "nbformat_minor": 2
}
